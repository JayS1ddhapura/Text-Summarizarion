{
  "nbformat": 4,
  "nbformat_minor": 0,
  "metadata": {
    "colab": {
      "name": "Text Summarization.ipynb",
      "provenance": [],
      "collapsed_sections": []
    },
    "kernelspec": {
      "name": "python3",
      "display_name": "Python 3"
    }
  },
  "cells": [
    {
      "cell_type": "code",
      "metadata": {
        "id": "CPASGYFbA8ms"
      },
      "source": [
        "txt = \"\"\"In an attempt to build an AI-ready workforce, Microsoft announced Intelligent Cloud Hub which has been launched to empower the next generation of students with AI-ready skills. \r\n",
        "Envisioned as a three-year collaborative program, Intelligent Cloud Hub will support around 100 institutions with AI infrastructure, course content and curriculum, developer support, development tools and give students access to cloud and AI services. \r\n",
        "As part of the program, the Redmond giant which wants to expand its reach and is planning to build a strong developer ecosystem in India with the program will set up the core AI infrastructure and IoT Hub for the selected campuses. \r\n",
        "The company will provide AI development tools and Azure AI services such as Microsoft Cognitive Services, Bot Services and Azure Machine Learning.\r\n",
        "According to Manish Prakash, Country General Manager-PS, Health and Education, Microsoft India, said, \"With AI being the defining technology of our time, it is transforming lives and industry and the jobs of tomorrow will require a different skillset. \r\n",
        "This will require more collaborations and training and working with AI. That’s why it has become more critical than ever for educational institutions to integrate new cloud and AI technologies. \r\n",
        "The program is an attempt to ramp up the institutional set-up and build capabilities among the educators to educate the workforce of tomorrow.\" The program aims to build up the cognitive skills and in-depth understanding of developing intelligent cloud connected solutions for applications across industry. \r\n",
        "Earlier in April this year, the company announced Microsoft Professional Program In AI as a learning track open to the public. \r\n",
        "The program was developed to provide job ready skills to programmers who wanted to hone their skills in AI and data science with a series of online courses which featured hands-on labs and expert instructors as well. \r\n",
        "This program also included developer-focused AI school that provided a bunch of assets to help build AI skills.\"\"\""
      ],
      "execution_count": 41,
      "outputs": []
    },
    {
      "cell_type": "code",
      "metadata": {
        "id": "CFwBIFzyBwHA"
      },
      "source": [
        "import spacy \r\n",
        "from spacy.lang.en.stop_words import STOP_WORDS \r\n",
        "from string import punctuation "
      ],
      "execution_count": 42,
      "outputs": []
    },
    {
      "cell_type": "code",
      "metadata": {
        "id": "SrPRPnUvCBJC"
      },
      "source": [
        "stopwords = list(STOP_WORDS)"
      ],
      "execution_count": 44,
      "outputs": []
    },
    {
      "cell_type": "code",
      "metadata": {
        "id": "IpnScPyGCGEg"
      },
      "source": [
        "nlp = spacy.load('en_core_web_sm')"
      ],
      "execution_count": 45,
      "outputs": []
    },
    {
      "cell_type": "code",
      "metadata": {
        "id": "LA_XikKwCQ94"
      },
      "source": [
        "doc = nlp(txt)"
      ],
      "execution_count": 46,
      "outputs": []
    },
    {
      "cell_type": "code",
      "metadata": {
        "colab": {
          "base_uri": "https://localhost:8080/"
        },
        "id": "QnmbWDyDCWZt",
        "outputId": "e7e1d335-0c33-48f4-963b-6752639ad07f"
      },
      "source": [
        "tokens = [token.text for token in doc]\r\n",
        "print(tokens)"
      ],
      "execution_count": 47,
      "outputs": [
        {
          "output_type": "stream",
          "text": [
            "['In', 'an', 'attempt', 'to', 'build', 'an', 'AI', '-', 'ready', 'workforce', ',', 'Microsoft', 'announced', 'Intelligent', 'Cloud', 'Hub', 'which', 'has', 'been', 'launched', 'to', 'empower', 'the', 'next', 'generation', 'of', 'students', 'with', 'AI', '-', 'ready', 'skills', '.', '\\n', 'Envisioned', 'as', 'a', 'three', '-', 'year', 'collaborative', 'program', ',', 'Intelligent', 'Cloud', 'Hub', 'will', 'support', 'around', '100', 'institutions', 'with', 'AI', 'infrastructure', ',', 'course', 'content', 'and', 'curriculum', ',', 'developer', 'support', ',', 'development', 'tools', 'and', 'give', 'students', 'access', 'to', 'cloud', 'and', 'AI', 'services', '.', '\\n', 'As', 'part', 'of', 'the', 'program', ',', 'the', 'Redmond', 'giant', 'which', 'wants', 'to', 'expand', 'its', 'reach', 'and', 'is', 'planning', 'to', 'build', 'a', 'strong', 'developer', 'ecosystem', 'in', 'India', 'with', 'the', 'program', 'will', 'set', 'up', 'the', 'core', 'AI', 'infrastructure', 'and', 'IoT', 'Hub', 'for', 'the', 'selected', 'campuses', '.', '\\n', 'The', 'company', 'will', 'provide', 'AI', 'development', 'tools', 'and', 'Azure', 'AI', 'services', 'such', 'as', 'Microsoft', 'Cognitive', 'Services', ',', 'Bot', 'Services', 'and', 'Azure', 'Machine', 'Learning', '.', '\\n', 'According', 'to', 'Manish', 'Prakash', ',', 'Country', 'General', 'Manager', '-', 'PS', ',', 'Health', 'and', 'Education', ',', 'Microsoft', 'India', ',', 'said', ',', '\"', 'With', 'AI', 'being', 'the', 'defining', 'technology', 'of', 'our', 'time', ',', 'it', 'is', 'transforming', 'lives', 'and', 'industry', 'and', 'the', 'jobs', 'of', 'tomorrow', 'will', 'require', 'a', 'different', 'skillset', '.', '\\n', 'This', 'will', 'require', 'more', 'collaborations', 'and', 'training', 'and', 'working', 'with', 'AI', '.', 'That', '’s', 'why', 'it', 'has', 'become', 'more', 'critical', 'than', 'ever', 'for', 'educational', 'institutions', 'to', 'integrate', 'new', 'cloud', 'and', 'AI', 'technologies', '.', '\\n', 'The', 'program', 'is', 'an', 'attempt', 'to', 'ramp', 'up', 'the', 'institutional', 'set', '-', 'up', 'and', 'build', 'capabilities', 'among', 'the', 'educators', 'to', 'educate', 'the', 'workforce', 'of', 'tomorrow', '.', '\"', 'The', 'program', 'aims', 'to', 'build', 'up', 'the', 'cognitive', 'skills', 'and', 'in', '-', 'depth', 'understanding', 'of', 'developing', 'intelligent', 'cloud', 'connected', 'solutions', 'for', 'applications', 'across', 'industry', '.', '\\n', 'Earlier', 'in', 'April', 'this', 'year', ',', 'the', 'company', 'announced', 'Microsoft', 'Professional', 'Program', 'In', 'AI', 'as', 'a', 'learning', 'track', 'open', 'to', 'the', 'public', '.', '\\n', 'The', 'program', 'was', 'developed', 'to', 'provide', 'job', 'ready', 'skills', 'to', 'programmers', 'who', 'wanted', 'to', 'hone', 'their', 'skills', 'in', 'AI', 'and', 'data', 'science', 'with', 'a', 'series', 'of', 'online', 'courses', 'which', 'featured', 'hands', '-', 'on', 'labs', 'and', 'expert', 'instructors', 'as', 'well', '.', '\\n', 'This', 'program', 'also', 'included', 'developer', '-', 'focused', 'AI', 'school', 'that', 'provided', 'a', 'bunch', 'of', 'assets', 'to', 'help', 'build', 'AI', 'skills', '.']\n"
          ],
          "name": "stdout"
        }
      ]
    },
    {
      "cell_type": "code",
      "metadata": {
        "colab": {
          "base_uri": "https://localhost:8080/",
          "height": 36
        },
        "id": "jmgDSKmjCgoL",
        "outputId": "0ffae9fb-31ca-40bf-9341-63e051d8e11b"
      },
      "source": [
        "punctuation = punctuation + '\\n'\r\n",
        "punctuation"
      ],
      "execution_count": 48,
      "outputs": [
        {
          "output_type": "execute_result",
          "data": {
            "application/vnd.google.colaboratory.intrinsic+json": {
              "type": "string"
            },
            "text/plain": [
              "'!\"#$%&\\'()*+,-./:;<=>?@[\\\\]^_`{|}~\\n'"
            ]
          },
          "metadata": {
            "tags": []
          },
          "execution_count": 48
        }
      ]
    },
    {
      "cell_type": "code",
      "metadata": {
        "colab": {
          "base_uri": "https://localhost:8080/"
        },
        "id": "BI3vgVtFCqEm",
        "outputId": "29715230-faeb-4c9e-86ab-4d64dc251670"
      },
      "source": [
        "word_frequencies = {}\r\n",
        "for word in doc:\r\n",
        "    if word.text.lower() not in stopwords:\r\n",
        "        if word.text.lower() not in punctuation:\r\n",
        "            if word.text not in word_frequencies.keys(): \r\n",
        "                word_frequencies[word.text] = 1\r\n",
        "            else: \r\n",
        "                word_frequencies[word.text] += 1\r\n",
        "\r\n",
        "print(word_frequencies) "
      ],
      "execution_count": 49,
      "outputs": [
        {
          "output_type": "stream",
          "text": [
            "{'attempt': 2, 'build': 5, 'AI': 14, 'ready': 3, 'workforce': 2, 'Microsoft': 4, 'announced': 2, 'Intelligent': 2, 'Cloud': 2, 'Hub': 3, 'launched': 1, 'empower': 1, 'generation': 1, 'students': 2, 'skills': 5, 'Envisioned': 1, 'year': 2, 'collaborative': 1, 'program': 7, 'support': 2, '100': 1, 'institutions': 2, 'infrastructure': 2, 'course': 1, 'content': 1, 'curriculum': 1, 'developer': 3, 'development': 2, 'tools': 2, 'access': 1, 'cloud': 3, 'services': 2, 'Redmond': 1, 'giant': 1, 'wants': 1, 'expand': 1, 'reach': 1, 'planning': 1, 'strong': 1, 'ecosystem': 1, 'India': 2, 'set': 2, 'core': 1, 'IoT': 1, 'selected': 1, 'campuses': 1, 'company': 2, 'provide': 2, 'Azure': 2, 'Cognitive': 1, 'Services': 2, 'Bot': 1, 'Machine': 1, 'Learning': 1, 'According': 1, 'Manish': 1, 'Prakash': 1, 'Country': 1, 'General': 1, 'Manager': 1, 'PS': 1, 'Health': 1, 'Education': 1, 'said': 1, 'defining': 1, 'technology': 1, 'time': 1, 'transforming': 1, 'lives': 1, 'industry': 2, 'jobs': 1, 'tomorrow': 2, 'require': 2, 'different': 1, 'skillset': 1, 'collaborations': 1, 'training': 1, 'working': 1, 'critical': 1, 'educational': 1, 'integrate': 1, 'new': 1, 'technologies': 1, 'ramp': 1, 'institutional': 1, 'capabilities': 1, 'educators': 1, 'educate': 1, 'aims': 1, 'cognitive': 1, 'depth': 1, 'understanding': 1, 'developing': 1, 'intelligent': 1, 'connected': 1, 'solutions': 1, 'applications': 1, 'Earlier': 1, 'April': 1, 'Professional': 1, 'Program': 1, 'learning': 1, 'track': 1, 'open': 1, 'public': 1, 'developed': 1, 'job': 1, 'programmers': 1, 'wanted': 1, 'hone': 1, 'data': 1, 'science': 1, 'series': 1, 'online': 1, 'courses': 1, 'featured': 1, 'hands': 1, 'labs': 1, 'expert': 1, 'instructors': 1, 'included': 1, 'focused': 1, 'school': 1, 'provided': 1, 'bunch': 1, 'assets': 1, 'help': 1}\n"
          ],
          "name": "stdout"
        }
      ]
    },
    {
      "cell_type": "code",
      "metadata": {
        "colab": {
          "base_uri": "https://localhost:8080/"
        },
        "id": "46XFADrrD8EB",
        "outputId": "ebd2f12e-7c2c-4c76-80bf-561e87d6e984"
      },
      "source": [
        "max_frequency = max(word_frequencies.values())\r\n",
        "max_frequency "
      ],
      "execution_count": 50,
      "outputs": [
        {
          "output_type": "execute_result",
          "data": {
            "text/plain": [
              "14"
            ]
          },
          "metadata": {
            "tags": []
          },
          "execution_count": 50
        }
      ]
    },
    {
      "cell_type": "code",
      "metadata": {
        "colab": {
          "base_uri": "https://localhost:8080/"
        },
        "id": "JPG0IeieFM7w",
        "outputId": "9c34d9ee-1f30-4076-bc24-f836a70f6e86"
      },
      "source": [
        "for word in word_frequencies.keys():\r\n",
        "    word_frequencies[word] = word_frequencies[word]/max_frequency\r\n",
        "\r\n",
        "print(word_frequencies)"
      ],
      "execution_count": 51,
      "outputs": [
        {
          "output_type": "stream",
          "text": [
            "{'attempt': 0.14285714285714285, 'build': 0.35714285714285715, 'AI': 1.0, 'ready': 0.21428571428571427, 'workforce': 0.14285714285714285, 'Microsoft': 0.2857142857142857, 'announced': 0.14285714285714285, 'Intelligent': 0.14285714285714285, 'Cloud': 0.14285714285714285, 'Hub': 0.21428571428571427, 'launched': 0.07142857142857142, 'empower': 0.07142857142857142, 'generation': 0.07142857142857142, 'students': 0.14285714285714285, 'skills': 0.35714285714285715, 'Envisioned': 0.07142857142857142, 'year': 0.14285714285714285, 'collaborative': 0.07142857142857142, 'program': 0.5, 'support': 0.14285714285714285, '100': 0.07142857142857142, 'institutions': 0.14285714285714285, 'infrastructure': 0.14285714285714285, 'course': 0.07142857142857142, 'content': 0.07142857142857142, 'curriculum': 0.07142857142857142, 'developer': 0.21428571428571427, 'development': 0.14285714285714285, 'tools': 0.14285714285714285, 'access': 0.07142857142857142, 'cloud': 0.21428571428571427, 'services': 0.14285714285714285, 'Redmond': 0.07142857142857142, 'giant': 0.07142857142857142, 'wants': 0.07142857142857142, 'expand': 0.07142857142857142, 'reach': 0.07142857142857142, 'planning': 0.07142857142857142, 'strong': 0.07142857142857142, 'ecosystem': 0.07142857142857142, 'India': 0.14285714285714285, 'set': 0.14285714285714285, 'core': 0.07142857142857142, 'IoT': 0.07142857142857142, 'selected': 0.07142857142857142, 'campuses': 0.07142857142857142, 'company': 0.14285714285714285, 'provide': 0.14285714285714285, 'Azure': 0.14285714285714285, 'Cognitive': 0.07142857142857142, 'Services': 0.14285714285714285, 'Bot': 0.07142857142857142, 'Machine': 0.07142857142857142, 'Learning': 0.07142857142857142, 'According': 0.07142857142857142, 'Manish': 0.07142857142857142, 'Prakash': 0.07142857142857142, 'Country': 0.07142857142857142, 'General': 0.07142857142857142, 'Manager': 0.07142857142857142, 'PS': 0.07142857142857142, 'Health': 0.07142857142857142, 'Education': 0.07142857142857142, 'said': 0.07142857142857142, 'defining': 0.07142857142857142, 'technology': 0.07142857142857142, 'time': 0.07142857142857142, 'transforming': 0.07142857142857142, 'lives': 0.07142857142857142, 'industry': 0.14285714285714285, 'jobs': 0.07142857142857142, 'tomorrow': 0.14285714285714285, 'require': 0.14285714285714285, 'different': 0.07142857142857142, 'skillset': 0.07142857142857142, 'collaborations': 0.07142857142857142, 'training': 0.07142857142857142, 'working': 0.07142857142857142, 'critical': 0.07142857142857142, 'educational': 0.07142857142857142, 'integrate': 0.07142857142857142, 'new': 0.07142857142857142, 'technologies': 0.07142857142857142, 'ramp': 0.07142857142857142, 'institutional': 0.07142857142857142, 'capabilities': 0.07142857142857142, 'educators': 0.07142857142857142, 'educate': 0.07142857142857142, 'aims': 0.07142857142857142, 'cognitive': 0.07142857142857142, 'depth': 0.07142857142857142, 'understanding': 0.07142857142857142, 'developing': 0.07142857142857142, 'intelligent': 0.07142857142857142, 'connected': 0.07142857142857142, 'solutions': 0.07142857142857142, 'applications': 0.07142857142857142, 'Earlier': 0.07142857142857142, 'April': 0.07142857142857142, 'Professional': 0.07142857142857142, 'Program': 0.07142857142857142, 'learning': 0.07142857142857142, 'track': 0.07142857142857142, 'open': 0.07142857142857142, 'public': 0.07142857142857142, 'developed': 0.07142857142857142, 'job': 0.07142857142857142, 'programmers': 0.07142857142857142, 'wanted': 0.07142857142857142, 'hone': 0.07142857142857142, 'data': 0.07142857142857142, 'science': 0.07142857142857142, 'series': 0.07142857142857142, 'online': 0.07142857142857142, 'courses': 0.07142857142857142, 'featured': 0.07142857142857142, 'hands': 0.07142857142857142, 'labs': 0.07142857142857142, 'expert': 0.07142857142857142, 'instructors': 0.07142857142857142, 'included': 0.07142857142857142, 'focused': 0.07142857142857142, 'school': 0.07142857142857142, 'provided': 0.07142857142857142, 'bunch': 0.07142857142857142, 'assets': 0.07142857142857142, 'help': 0.07142857142857142}\n"
          ],
          "name": "stdout"
        }
      ]
    },
    {
      "cell_type": "code",
      "metadata": {
        "colab": {
          "base_uri": "https://localhost:8080/"
        },
        "id": "FxtPmDAGF5-b",
        "outputId": "63aa5933-1134-414a-d02e-7690353faecc"
      },
      "source": [
        "sentence_tokens = [sent for sent in doc.sents]\r\n",
        "print(sentence_tokens)"
      ],
      "execution_count": 52,
      "outputs": [
        {
          "output_type": "stream",
          "text": [
            "[In an attempt to build an AI-ready workforce, Microsoft announced Intelligent Cloud Hub which has been launched to empower the next generation of students with AI-ready skills. \n",
            ", Envisioned as a three-year collaborative program, Intelligent Cloud Hub will support around 100 institutions with AI infrastructure, course content and curriculum, developer support, development tools and give students access to cloud and AI services. \n",
            ", As part of the program, the Redmond giant which wants to expand its reach and is planning to build a strong developer ecosystem in India with the program will set up the core AI infrastructure and IoT Hub for the selected campuses. \n",
            ", The company will provide AI development tools and Azure AI services such as Microsoft Cognitive Services, Bot Services and Azure Machine Learning.\n",
            ", According to Manish Prakash, Country General Manager-PS, Health and Education, Microsoft India, said, \"With AI being the defining technology of our time, it is transforming lives and industry and the jobs of tomorrow will require a different skillset. \n",
            ", This will require more collaborations and training and working with AI., That’s why it has become more critical than ever for educational institutions to integrate new cloud and AI technologies. \n",
            ", The program is an attempt to ramp up the institutional set-up and build capabilities among the educators to educate the workforce of tomorrow., \", The program aims to build up the cognitive skills and in-depth understanding of developing intelligent cloud connected solutions for applications across industry. \n",
            ", Earlier in April this year, the company announced Microsoft Professional Program, In AI as a learning track open to the public. \n",
            ", The program was developed to provide job ready skills to programmers who wanted to hone their skills in AI and data science with a series of online courses which featured hands-on labs and expert instructors as well. \n",
            ", This program also included developer-focused AI school that provided a bunch of assets to help build AI skills.]\n"
          ],
          "name": "stdout"
        }
      ]
    },
    {
      "cell_type": "code",
      "metadata": {
        "colab": {
          "base_uri": "https://localhost:8080/"
        },
        "id": "Roctlcy9GFXu",
        "outputId": "ad77348f-b376-47f2-c9c8-71dbed06d8ca"
      },
      "source": [
        "sentence_scores = {}\r\n",
        "for sent in sentence_tokens: \r\n",
        "    for word in sent: \r\n",
        "        if word.text.lower() in word_frequencies.keys(): \r\n",
        "            if sent not in sentence_scores.keys():\r\n",
        "                sentence_scores[sent] = word_frequencies[word.text.lower()]\r\n",
        "            else: \r\n",
        "                sentence_scores[sent] += word_frequencies[word.text.lower()]\r\n",
        "\r\n",
        "sentence_scores"
      ],
      "execution_count": 53,
      "outputs": [
        {
          "output_type": "execute_result",
          "data": {
            "text/plain": [
              "{In an attempt to build an AI-ready workforce, Microsoft announced Intelligent Cloud Hub which has been launched to empower the next generation of students with AI-ready skills. : 2.214285714285714,\n",
              " Envisioned as a three-year collaborative program, Intelligent Cloud Hub will support around 100 institutions with AI infrastructure, course content and curriculum, developer support, development tools and give students access to cloud and AI services. : 2.9285714285714284,\n",
              " As part of the program, the Redmond giant which wants to expand its reach and is planning to build a strong developer ecosystem in India with the program will set up the core AI infrastructure and IoT Hub for the selected campuses. : 2.5714285714285716,\n",
              " The company will provide AI development tools and Azure AI services such as Microsoft Cognitive Services, Bot Services and Azure Machine Learning.: 1.1428571428571426,\n",
              " According to Manish Prakash, Country General Manager-PS, Health and Education, Microsoft India, said, \"With AI being the defining technology of our time, it is transforming lives and industry and the jobs of tomorrow will require a different skillset. : 1.0714285714285712,\n",
              " This will require more collaborations and training and working with AI.: 0.3571428571428571,\n",
              " That’s why it has become more critical than ever for educational institutions to integrate new cloud and AI technologies. : 0.7142857142857142,\n",
              " The program is an attempt to ramp up the institutional set-up and build capabilities among the educators to educate the workforce of tomorrow.: 1.7857142857142854,\n",
              " The program aims to build up the cognitive skills and in-depth understanding of developing intelligent cloud connected solutions for applications across industry. : 2.214285714285714,\n",
              " Earlier in April this year, the company announced Microsoft Professional Program: 0.9285714285714286,\n",
              " In AI as a learning track open to the public. : 0.2857142857142857,\n",
              " The program was developed to provide job ready skills to programmers who wanted to hone their skills in AI and data science with a series of online courses which featured hands-on labs and expert instructors as well. : 2.642857142857144,\n",
              " This program also included developer-focused AI school that provided a bunch of assets to help build AI skills.: 1.9285714285714286}"
            ]
          },
          "metadata": {
            "tags": []
          },
          "execution_count": 53
        }
      ]
    },
    {
      "cell_type": "code",
      "metadata": {
        "id": "ZvyOKTMbHPvN"
      },
      "source": [
        "from heapq import nlargest "
      ],
      "execution_count": 54,
      "outputs": []
    },
    {
      "cell_type": "code",
      "metadata": {
        "colab": {
          "base_uri": "https://localhost:8080/"
        },
        "id": "jQT6cSqIHV4m",
        "outputId": "c4a2a3a9-c4fe-48d1-d856-549d3ab17077"
      },
      "source": [
        "select_length = int(len(sentence_tokens) *0.3)\r\n",
        "select_length "
      ],
      "execution_count": 55,
      "outputs": [
        {
          "output_type": "execute_result",
          "data": {
            "text/plain": [
              "4"
            ]
          },
          "metadata": {
            "tags": []
          },
          "execution_count": 55
        }
      ]
    },
    {
      "cell_type": "code",
      "metadata": {
        "colab": {
          "base_uri": "https://localhost:8080/"
        },
        "id": "aDR_jLZ8HiRE",
        "outputId": "ef614c76-7724-4999-f33b-38db3af57cb7"
      },
      "source": [
        "summary = nlargest(select_length, sentence_scores, key = sentence_scores.get)\r\n",
        "summary "
      ],
      "execution_count": 56,
      "outputs": [
        {
          "output_type": "execute_result",
          "data": {
            "text/plain": [
              "[Envisioned as a three-year collaborative program, Intelligent Cloud Hub will support around 100 institutions with AI infrastructure, course content and curriculum, developer support, development tools and give students access to cloud and AI services. ,\n",
              " The program was developed to provide job ready skills to programmers who wanted to hone their skills in AI and data science with a series of online courses which featured hands-on labs and expert instructors as well. ,\n",
              " As part of the program, the Redmond giant which wants to expand its reach and is planning to build a strong developer ecosystem in India with the program will set up the core AI infrastructure and IoT Hub for the selected campuses. ,\n",
              " In an attempt to build an AI-ready workforce, Microsoft announced Intelligent Cloud Hub which has been launched to empower the next generation of students with AI-ready skills. ]"
            ]
          },
          "metadata": {
            "tags": []
          },
          "execution_count": 56
        }
      ]
    },
    {
      "cell_type": "code",
      "metadata": {
        "id": "3FFiEYsQH3x2"
      },
      "source": [
        " final_summary = [word.text for word in summary]\r\n",
        " summary = ' '.join(final_summary)"
      ],
      "execution_count": 57,
      "outputs": []
    },
    {
      "cell_type": "code",
      "metadata": {
        "colab": {
          "base_uri": "https://localhost:8080/"
        },
        "id": "iaPec9sTIFKC",
        "outputId": "df0b65ac-de81-4286-9039-42aa7a88312c"
      },
      "source": [
        "print(summary)"
      ],
      "execution_count": 58,
      "outputs": [
        {
          "output_type": "stream",
          "text": [
            "Envisioned as a three-year collaborative program, Intelligent Cloud Hub will support around 100 institutions with AI infrastructure, course content and curriculum, developer support, development tools and give students access to cloud and AI services. \n",
            " The program was developed to provide job ready skills to programmers who wanted to hone their skills in AI and data science with a series of online courses which featured hands-on labs and expert instructors as well. \n",
            " As part of the program, the Redmond giant which wants to expand its reach and is planning to build a strong developer ecosystem in India with the program will set up the core AI infrastructure and IoT Hub for the selected campuses. \n",
            " In an attempt to build an AI-ready workforce, Microsoft announced Intelligent Cloud Hub which has been launched to empower the next generation of students with AI-ready skills. \n",
            "\n"
          ],
          "name": "stdout"
        }
      ]
    },
    {
      "cell_type": "code",
      "metadata": {
        "colab": {
          "base_uri": "https://localhost:8080/"
        },
        "id": "PP7AWOfoILk9",
        "outputId": "08cbaef7-d7be-4e6d-ebf1-e3c8ea1bf9e8"
      },
      "source": [
        "print(txt)"
      ],
      "execution_count": 59,
      "outputs": [
        {
          "output_type": "stream",
          "text": [
            "In an attempt to build an AI-ready workforce, Microsoft announced Intelligent Cloud Hub which has been launched to empower the next generation of students with AI-ready skills. \n",
            "Envisioned as a three-year collaborative program, Intelligent Cloud Hub will support around 100 institutions with AI infrastructure, course content and curriculum, developer support, development tools and give students access to cloud and AI services. \n",
            "As part of the program, the Redmond giant which wants to expand its reach and is planning to build a strong developer ecosystem in India with the program will set up the core AI infrastructure and IoT Hub for the selected campuses. \n",
            "The company will provide AI development tools and Azure AI services such as Microsoft Cognitive Services, Bot Services and Azure Machine Learning.\n",
            "According to Manish Prakash, Country General Manager-PS, Health and Education, Microsoft India, said, \"With AI being the defining technology of our time, it is transforming lives and industry and the jobs of tomorrow will require a different skillset. \n",
            "This will require more collaborations and training and working with AI. That’s why it has become more critical than ever for educational institutions to integrate new cloud and AI technologies. \n",
            "The program is an attempt to ramp up the institutional set-up and build capabilities among the educators to educate the workforce of tomorrow.\" The program aims to build up the cognitive skills and in-depth understanding of developing intelligent cloud connected solutions for applications across industry. \n",
            "Earlier in April this year, the company announced Microsoft Professional Program In AI as a learning track open to the public. \n",
            "The program was developed to provide job ready skills to programmers who wanted to hone their skills in AI and data science with a series of online courses which featured hands-on labs and expert instructors as well. \n",
            "This program also included developer-focused AI school that provided a bunch of assets to help build AI skills.\n"
          ],
          "name": "stdout"
        }
      ]
    }
  ]
}